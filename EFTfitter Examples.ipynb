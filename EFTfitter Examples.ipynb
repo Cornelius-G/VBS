{
 "cells": [
  {
   "cell_type": "markdown",
   "metadata": {},
   "source": [
    "# Three examples on using EFTfitter.jl"
   ]
  },
  {
   "cell_type": "code",
   "execution_count": null,
   "metadata": {},
   "outputs": [],
   "source": [
    "using BAT, EFTfitter, Distributions, Plots, IntervalSets"
   ]
  },
  {
   "cell_type": "markdown",
   "metadata": {},
   "source": [
    "Run the lines below if `Plotly` and/or `PyPlot` backends are not available (needed for some of the plots):"
   ]
  },
  {
   "cell_type": "code",
   "execution_count": null,
   "metadata": {},
   "outputs": [],
   "source": [
    "# using Pkg\n",
    "# Pkg.add(\"Plotly\")\n",
    "# ENV[\"PYTHON\"]=\"\"\n",
    "# pkg\"add PyPlot PyCall\""
   ]
  },
  {
   "cell_type": "code",
   "execution_count": null,
   "metadata": {},
   "outputs": [],
   "source": [
    "#using Pkg\n",
    "#pkg\"add BAT, EFTfitter\""
   ]
  },
  {
   "cell_type": "markdown",
   "metadata": {},
   "source": [
    "## Example 1: BLUE-like combination of multiple measurements of the same observable"
   ]
  },
  {
   "cell_type": "markdown",
   "metadata": {},
   "source": [
    "Multiple **correlated** measurements of the charm quark lifetime (all in units of $10^{-13}$ seconds):\n",
    "\n",
    "$\\tau_1 =  9.5 \\pm 1.66$   \n",
    "$\\tau_2 = 11.9 \\pm 1.29$  \n",
    "$\\tau_3 = 11.1 \\pm 1.45$   \n",
    "$\\tau_4 =  8.9 \\pm 1.71$  \n",
    " \n",
    "Goal: Determine the best combined value, i.e.,  BLUE - Best Linear Unbiased Estimator   \n",
    "(Example based on http://cds.cern.ch/record/183996/files/OUNP-88-05.pdf?subformat=pdfa&version=1)"
   ]
  },
  {
   "cell_type": "markdown",
   "metadata": {},
   "source": [
    "### Define a parameter for estimating the combined value:"
   ]
  },
  {
   "cell_type": "code",
   "execution_count": null,
   "metadata": {},
   "outputs": [],
   "source": [
    "parameters = BAT.NamedTupleDist(\n",
    "    τ = 7..15,  # uniform prior distribution between 7 and 15\n",
    ");\n",
    "\n",
    "\n",
    "#no underlying model -> observable == parameter:\n",
    "estimator(params) = params.τ "
   ]
  },
  {
   "cell_type": "markdown",
   "metadata": {},
   "source": [
    "### Insert the measurements & uncertainties:"
   ]
  },
  {
   "cell_type": "code",
   "execution_count": null,
   "metadata": {},
   "outputs": [],
   "source": [
    "measurements = (\n",
    "    τ1 = Measurement(estimator,  9.50, uncertainties = (exp=1.66,) ),\n",
    "    τ2 = Measurement(estimator, 11.90, uncertainties = (exp=1.29,) ),\n",
    "    τ3 = Measurement(estimator, 11.10, uncertainties = (exp=1.45,) ),\n",
    "    τ4 = Measurement(estimator,  8.90, uncertainties = (exp=1.71,) ),\n",
    ")"
   ]
  },
  {
   "cell_type": "markdown",
   "metadata": {},
   "source": [
    "### Insert the correlations of the uncertainties:"
   ]
  },
  {
   "cell_type": "code",
   "execution_count": null,
   "metadata": {},
   "outputs": [],
   "source": [
    "correlations = (\n",
    "    exp = Correlation([1.0 0.54 0.36 0.46;\n",
    "                        0.54 1.0 0.44 0.60;\n",
    "                        0.36 0.44 1.0 0.42;\n",
    "                        0.46 0.60 0.42 1.0]),\n",
    ");"
   ]
  },
  {
   "cell_type": "markdown",
   "metadata": {},
   "source": [
    "### Build the model & posterior distribution:"
   ]
  },
  {
   "cell_type": "code",
   "execution_count": null,
   "metadata": {},
   "outputs": [],
   "source": [
    "model = EFTfitterModel(parameters, measurements, correlations)\n",
    "posterior = PosteriorDensity(model);"
   ]
  },
  {
   "cell_type": "markdown",
   "metadata": {},
   "source": [
    "### Choose algorithm & sample the posterior: "
   ]
  },
  {
   "cell_type": "code",
   "execution_count": null,
   "metadata": {},
   "outputs": [],
   "source": [
    "algorithm = MCMCSampling(mcalg = MetropolisHastings(), nsteps = 10^6, nchains = 4)\n",
    "samples = bat_sample(posterior, algorithm).result;"
   ]
  },
  {
   "cell_type": "markdown",
   "metadata": {},
   "source": [
    "### Plot the posterior:"
   ]
  },
  {
   "cell_type": "code",
   "execution_count": null,
   "metadata": {},
   "outputs": [],
   "source": [
    "Plots.plot(samples, :τ)"
   ]
  },
  {
   "cell_type": "markdown",
   "metadata": {},
   "source": [
    "### Print numerical results:"
   ]
  },
  {
   "cell_type": "code",
   "execution_count": null,
   "metadata": {},
   "outputs": [],
   "source": [
    "println(\"Mode: $(mode(samples).τ[1])\")\n",
    "println(\"Mean: $(mean(samples).τ[1]) ± $(std(samples).τ[1])\", \"\\n\")"
   ]
  },
  {
   "cell_type": "markdown",
   "metadata": {},
   "source": [
    "### Comparison with classical BLUE result:"
   ]
  },
  {
   "cell_type": "code",
   "execution_count": null,
   "metadata": {},
   "outputs": [],
   "source": [
    "blue = BLUE(model)\n",
    "\n",
    "println(\"BLUE: $(blue.value) ± $(blue.unc)\")"
   ]
  },
  {
   "cell_type": "code",
   "execution_count": null,
   "metadata": {},
   "outputs": [],
   "source": []
  },
  {
   "cell_type": "markdown",
   "metadata": {},
   "source": [
    "## Example 2: Combining different observables for constraining underlying parameters"
   ]
  },
  {
   "cell_type": "markdown",
   "metadata": {},
   "source": [
    "In this example, measurements of two different observables are combined to constrain underlying parameters.\n",
    "\n",
    "Specifically, we want to determine the gravitational acceleration $g$ using a measurement of a free fall distance and a measurement of a pendulum period."
   ]
  },
  {
   "cell_type": "markdown",
   "metadata": {},
   "source": [
    "We assume the following **observables**:\n",
    "\n",
    "Free fall distance: $S = \\frac{1}{2} \\cdot g \\cdot t^2$\n",
    "\n",
    "Pendulum period: $T = 2\\pi \\sqrt{\\frac{L}{g}}$, where $L$ is the length of the pendulum"
   ]
  },
  {
   "cell_type": "markdown",
   "metadata": {},
   "source": [
    "And the corresponding **measurements** are assumed to be:  \n",
    "\n",
    "$S = (1102.6 \\pm  55.2)$ m\n",
    "\n",
    "$T = (4.5 \\pm 0.2)$ s"
   ]
  },
  {
   "cell_type": "markdown",
   "metadata": {},
   "source": [
    "### Define parameters:"
   ]
  },
  {
   "cell_type": "code",
   "execution_count": null,
   "metadata": {},
   "outputs": [],
   "source": [
    "parameters = BAT.NamedTupleDist(\n",
    "    g  = 0.1..20,                            # gravitational acceleration to be constrained (uniform prior)\n",
    "    t  = Normal(15., 0.5),                   # time of free fall  (known with some uncertainty)\n",
    "    L  = truncated(Normal(5., 0.5), 0.1, 10) # length of pendulum (known with some uncertainty)\n",
    ");\n"
   ]
  },
  {
   "cell_type": "markdown",
   "metadata": {},
   "source": [
    "### Implement dependeces of the observables on the parameters:"
   ]
  },
  {
   "cell_type": "code",
   "execution_count": null,
   "metadata": {},
   "outputs": [],
   "source": [
    "function distance(params)\n",
    "    return 0.5*params.g*(params.t^2)\n",
    "end\n",
    "\n",
    "function period(params)\n",
    "    return 2π*sqrt(params.L/params.g)\n",
    "end"
   ]
  },
  {
   "cell_type": "markdown",
   "metadata": {},
   "source": [
    "### Insert measurements, uncertainties and correlations:"
   ]
  },
  {
   "cell_type": "code",
   "execution_count": null,
   "metadata": {},
   "outputs": [],
   "source": [
    "measurements = (\n",
    "    distance_meas = Measurement(distance, 1102.6, uncertainties = (exp=55.2,), active = true),\n",
    "    period_meas   = Measurement(period,      4.5, uncertainties = (exp=0.2,), active = true),\n",
    ")\n",
    "\n",
    "\n",
    "correlations = (\n",
    "    exp = NoCorrelation(),\n",
    ");"
   ]
  },
  {
   "cell_type": "markdown",
   "metadata": {},
   "source": [
    "### Build the model & posterior:"
   ]
  },
  {
   "cell_type": "code",
   "execution_count": null,
   "metadata": {},
   "outputs": [],
   "source": [
    "model = EFTfitterModel(parameters, measurements, correlations)\n",
    "posterior = PosteriorDensity(model);"
   ]
  },
  {
   "cell_type": "markdown",
   "metadata": {},
   "source": [
    "### Define algorithm & generate samples:"
   ]
  },
  {
   "cell_type": "code",
   "execution_count": null,
   "metadata": {},
   "outputs": [],
   "source": [
    "algorithm = MCMCSampling(mcalg = MetropolisHastings(), nsteps = 10^6, nchains = 4)\n",
    "samples = bat_sample(posterior, algorithm).result;"
   ]
  },
  {
   "cell_type": "code",
   "execution_count": null,
   "metadata": {},
   "outputs": [],
   "source": [
    "plot(samples)\n",
    "\n",
    "# plot prior distributions ontop to visualize gain of knowledge:\n",
    "# plot!(parameters)"
   ]
  },
  {
   "cell_type": "markdown",
   "metadata": {},
   "source": [
    "### Print mean values:"
   ]
  },
  {
   "cell_type": "code",
   "execution_count": null,
   "metadata": {},
   "outputs": [],
   "source": [
    "println(\"Mean(g) = $(mean(samples).g[1]) ± $(std(samples).g[1])\", \"\\n\")\n",
    "println(\"Mean(t) = $(mean(samples).t[1]) ± $(std(samples).t[1])\", \"\\n\")\n",
    "println(\"Mean(L) = $(mean(samples).L[1]) ± $(std(samples).L[1])\", \"\\n\")"
   ]
  },
  {
   "cell_type": "markdown",
   "metadata": {},
   "source": [
    "#     \n",
    "      \n",
    "\n",
    "## Example 3: EFT fit to top-quark & B measurements"
   ]
  },
  {
   "cell_type": "markdown",
   "metadata": {},
   "source": [
    "This example is a SMEFT fit of the three Wilson coefficients $C_{uB}$, $C_{uG}$, and $C_{uW}$ to:   \n",
    "- a $B$ physics measurement (branching ratio of $\\bar B \\rightarrow X_s \\gamma$)   \n",
    "- and a top-quark measurement (fiducial cross section of $t\\bar t\\gamma$ production).\n",
    "\n",
    "(Example based on https://inspirehep.net/files/7fd8cefc6c3ba009e77eee7d8fab6734)"
   ]
  },
  {
   "cell_type": "markdown",
   "metadata": {},
   "source": [
    "###  Define parameters and priors:"
   ]
  },
  {
   "cell_type": "code",
   "execution_count": null,
   "metadata": {},
   "outputs": [],
   "source": [
    "parameters = BAT.NamedTupleDist(\n",
    "    CuB  = -1..1, # uniform prior distributions for all Wilson coefficients\n",
    "    CuG  = -1..1,\n",
    "    CuW  = -1..1,\n",
    ");"
   ]
  },
  {
   "cell_type": "markdown",
   "metadata": {},
   "source": [
    "### Define the depences of the observables on the parameters:\n",
    "\n",
    "The depence of the observables on the Wilson coefficients is determined outside EFTfitter using theory calculations and MC simulations."
   ]
  },
  {
   "cell_type": "markdown",
   "metadata": {},
   "source": [
    "### Branching ratio:"
   ]
  },
  {
   "cell_type": "code",
   "execution_count": null,
   "metadata": {},
   "outputs": [],
   "source": [
    "function BR_Xsgamma(params)\n",
    "    C = B_coeff(params)\n",
    "    p = params_BR_BXsgamma()\n",
    "    return compute_BR(C, p)\n",
    "end\n",
    "\n",
    "\n",
    "\n",
    "#=== The functions below contain everything needed for calculating the BR as a function of the Wilson coefficients ===#\n",
    "function params_BR_BXsgamma()\n",
    "    return [ 0.000336098480234567,\n",
    "     -0.0009933924103794787, -0.00020718442307888992, 0.0, 0.0,\n",
    "     0.0008165776679190035, 0.00031795137986217944, 1.6263032587282567e-19,\n",
    "     1.6263032587282567e-19, 4.987993887589637e-05, -5.421010862427522e-20,\n",
    "     -5.421010862427522e-20, 0.0, 0.0, 0.0\n",
    "     ]\n",
    "end\n",
    "\n",
    "function compute_BR(C, p)\n",
    "    BR = ( p[1] + p[2]*C[1] + p[3]*C[2] + p[4]*C[3]\n",
    "    + p[5]*C[4] + p[6]*C[1]*C[1] + p[7]*C[1]*C[2]\n",
    "    + p[8]*C[1]*C[3] + p[9]*C[1]*C[4] + p[10]*C[2]*C[2]\n",
    "    + p[11]*C[2]*C[3] + p[12]*C[2]*C[4] + p[13]*C[3]*C[3]\n",
    "    + p[14]*C[3]*C[4] + p[15]*C[4]*C[4] )\n",
    "\n",
    "    return BR\n",
    "end\n",
    "\n",
    "match_C7(C) = -2.400 * C[1] + 0.09581 * C[3] \n",
    "match_C8(C) = -0.6821 * C[2] + 0.2519 * C[3] \n",
    "match_C9(C) =  2.440 * C[1] + 2.16032 * C[3]\n",
    "match_C10(C) = 7.650 * C[3]\n",
    "match_C1(C) = 4.402 * C[3]\n",
    "match_CL(C) = -2.8233 * C[3]\n",
    "\n",
    "function B_coeff(params)\n",
    "    C = run_SMEFT(params)\n",
    "\n",
    "    C7  = match_C7(C)\n",
    "    C8  = match_C8(C)\n",
    "    C9  = match_C9(C)\n",
    "    C10 = match_C10(C)\n",
    "\n",
    "    return [C7, C8, C9, C10]\n",
    "end\n",
    "\n",
    "\n",
    "function run_SMEFT(params)\n",
    "    cub = params.CuB[1]\n",
    "    cug = params.CuG[1] \n",
    "    cuw = params.CuW[1]\n",
    "\n",
    "    coeff = [ cub, cug, cuw]\n",
    "\n",
    "    coeff[1] = 0.949 * cub - 0.009 * cug + 0.0007 * cuw\n",
    "    coeff[2] = -0.0068 * cub + 1.011 * cug - 0.023 * cuw\n",
    "    coeff[3] = 0.00023 * cub - 0.009 * cug + 0.96 * cuw\n",
    "\n",
    "    return coeff\n",
    "end"
   ]
  },
  {
   "cell_type": "markdown",
   "metadata": {},
   "source": [
    "### fiducial cross section:"
   ]
  },
  {
   "cell_type": "code",
   "execution_count": null,
   "metadata": {},
   "outputs": [],
   "source": [
    "function tta_13_1l(params)\n",
    "    cub = params.CuB\n",
    "    cug = params.CuG\n",
    "    cuw = params.CuW\n",
    "\n",
    "    θw = 28.13\n",
    "    sw = sind(θw)\n",
    "    cw = cosd(θw)\n",
    "    cuz = cw*cuw - sw*cub\n",
    "    fiducial_xsec_1l_uz([cug, cuw, cuz])\n",
    "end\n",
    "\n",
    "\n",
    "#=== The functions below contain everything needed for calculating the fiducial cross section as a function of the Wilson coefficients ===#\n",
    "function fiducial_xsec_1l_uz(C)\n",
    "    k_1l = 83.4665999459313\n",
    "    fit_eff_param_1l =  params_fidacc_1l()\n",
    "    interpol_noacc_param = params_total_xsec()\n",
    "\n",
    "    return eff(C, fit_eff_param_1l) .* quadratic_model(C, interpol_noacc_param) .+ k_1l\n",
    "end\n",
    "\n",
    "# fiducial acceptance\n",
    "function eff(C, e)\n",
    "    s = params_total_xsec()\n",
    "    denominator = quadratic_model(C, s)\n",
    "\n",
    "    numerator = (e[1]*s[1]*C[1]^0*C[2]^0*C[3]^0\n",
    "    + e[2]*s[2]*C[1]^0*C[2]^0*C[3]^1\n",
    "    + e[3]*s[3]*C[1]^0*C[2]^0*C[3]^2\n",
    "    + e[4]*s[4]*C[1]^0*C[2]^1*C[3]^0\n",
    "    + e[5]*s[5]*C[1]^0*C[2]^1*C[3]^1\n",
    "    + e[6]*s[6]*C[1]^0*C[2]^2*C[3]^0\n",
    "    + e[7]*s[7]*C[1]^1*C[2]^0*C[3]^0\n",
    "    + e[8]*s[8]*C[1]^1*C[2]^0*C[3]^1\n",
    "    + e[9]*s[9]*C[1]^1*C[2]^1*C[3]^0\n",
    "    + e[10]*s[10]*C[1]^2*C[2]^0*C[3]^0\n",
    "    )\n",
    "\n",
    "    return numerator ./ denominator\n",
    "end\n",
    "\n",
    "function quadratic_model(C, p)\n",
    "(p[1]*C[1]^0*C[2]^0*C[3]^0\n",
    "+ p[2]*C[1]^0*C[2]^0*C[3]^1\n",
    "+ p[3]*C[1]^0*C[2]^0*C[3]^2\n",
    "+ p[4]*C[1]^0*C[2]^1*C[3]^0\n",
    "+ p[5]*C[1]^0*C[2]^1*C[3]^1\n",
    "+ p[6]*C[1]^0*C[2]^2*C[3]^0\n",
    "+ p[7]*C[1]^1*C[2]^0*C[3]^0\n",
    "+ p[8]*C[1]^1*C[2]^0*C[3]^1\n",
    "+ p[9]*C[1]^1*C[2]^1*C[3]^0\n",
    "+ p[10]*C[1]^2*C[2]^0*C[3]^0\n",
    ")\n",
    "end\n",
    "\n",
    "function params_total_xsec()\n",
    "    return [4787.8319388679765,\n",
    "    -633.3295852678285, 44776.40427336053, 26525.758407582485,\n",
    "    -102898.33073686132, 105571.83244747801, 20441.62967975978,\n",
    "    -8672.01708116833, 64965.31092132101, 51975.059043423]\n",
    "end\n",
    "\n",
    "function params_fidacc_1l()\n",
    "    return [0.08595401954550866,\n",
    "    0.24342261870353674, 0.23993945397597446, 0.08809735354860272,\n",
    "    0.24064846695181866, 0.17129137428997598, 0.08453761417847493,\n",
    "    0.2571572039502875, 0.11016589914607273, 0.10102226849696228]\n",
    "end"
   ]
  },
  {
   "cell_type": "markdown",
   "metadata": {},
   "source": [
    "### Insert the measurements and uncertainties:"
   ]
  },
  {
   "cell_type": "code",
   "execution_count": null,
   "metadata": {},
   "outputs": [],
   "source": [
    "measurements = (\n",
    "    HFLAV_BR_Xsgamma  = Measurement(BR_Xsgamma, 332e-6, uncertainties = (exp=15e-6, theo=23e-6), active = true),\n",
    "    ATLAS_13_1l       = Measurement(tta_13_1l,  521.0,  uncertainties = (exp =42. , theo=99.),   active = true),\n",
    ");"
   ]
  },
  {
   "cell_type": "markdown",
   "metadata": {},
   "source": [
    "### and (no) correlations:  "
   ]
  },
  {
   "cell_type": "code",
   "execution_count": null,
   "metadata": {},
   "outputs": [],
   "source": [
    "correlations = (\n",
    "    exp  = NoCorrelation(),\n",
    "    theo = NoCorrelation()\n",
    ");"
   ]
  },
  {
   "cell_type": "markdown",
   "metadata": {},
   "source": [
    "### Build the Model:"
   ]
  },
  {
   "cell_type": "code",
   "execution_count": null,
   "metadata": {},
   "outputs": [],
   "source": [
    "m = EFTfitterModel(parameters, measurements, correlations);"
   ]
  },
  {
   "cell_type": "markdown",
   "metadata": {},
   "source": [
    "### Inspect the models & measurements:"
   ]
  },
  {
   "cell_type": "code",
   "execution_count": null,
   "metadata": {},
   "outputs": [],
   "source": [
    "p = plot( get_observables(m).tta_13_1l, (CuB=-1:0.01:1, CuG=0, CuW=0), label=\"CuB\", lw=1.5)\n",
    "p = plot!(get_observables(m).tta_13_1l, (CuB=0, CuG=-1:0.01:1, CuW=0), label=\"CuG\", lw=1.5)\n",
    "p = plot!(get_observables(m).tta_13_1l, (CuB=0, CuG=0, CuW=-1:0.01:1), label=\"CuW\", lw=1.5)\n",
    "\n",
    "p = plot!(get_measurements(m).ATLAS_13_1l, label=\"ATLAS Measurement\", color=:steelblue2)\n",
    "\n",
    "p = plot!(xlabel=\"C\", title=\"ttbar gamma cross section\", legend = :topleft,)"
   ]
  },
  {
   "cell_type": "code",
   "execution_count": null,
   "metadata": {},
   "outputs": [],
   "source": [
    "p = plot( get_observables(m).BR_Xsgamma, (CuB=-1:0.01:1, CuG=0, CuW=0), label=\"CuB\", lw=1.5)\n",
    "p = plot!(get_observables(m).BR_Xsgamma, (CuB=0, CuG=-1:0.01:1, CuW=0), label=\"CuG\", lw=1.5)\n",
    "p = plot!(get_observables(m).BR_Xsgamma, (CuB=0, CuG=0, CuW=-1:0.01:1), label=\"CuW\", lw=1.5)\n",
    "\n",
    "p = plot!(get_measurements(m).HFLAV_BR_Xsgamma, label=\"HFLAV measurement\", color=:grey56)\n",
    "\n",
    "p = plot!(xlabel=\"C\", title=\"Branching ratio\", legend = :topleft, ylims=(0, 0.001))"
   ]
  },
  {
   "cell_type": "markdown",
   "metadata": {},
   "source": [
    "### Sample the posterior distribution of the combination:"
   ]
  },
  {
   "cell_type": "code",
   "execution_count": null,
   "metadata": {},
   "outputs": [],
   "source": [
    "posterior = PosteriorDensity(m)\n",
    "algorithm = MCMCSampling(mcalg = MetropolisHastings(), nsteps = 10^6, nchains = 4)\n",
    "samples = bat_sample(posterior, algorithm).result;"
   ]
  },
  {
   "cell_type": "markdown",
   "metadata": {},
   "source": [
    "### Plot samples of combination:"
   ]
  },
  {
   "cell_type": "code",
   "execution_count": null,
   "metadata": {
    "scrolled": false
   },
   "outputs": [],
   "source": [
    "plot(samples)"
   ]
  },
  {
   "cell_type": "markdown",
   "metadata": {},
   "source": [
    "### More infos on plotting with BAT.jl and EFTfitter.jl:"
   ]
  },
  {
   "cell_type": "markdown",
   "metadata": {},
   "source": [
    "https://bat.github.io/BAT.jl/dev/plotting/\n",
    "\n",
    "https://tudo-physik-e4.github.io/EFTfitter.jl/dev/plotting/  \n",
    "  \n",
    "    \n",
    "    "
   ]
  },
  {
   "cell_type": "markdown",
   "metadata": {},
   "source": [
    "### Fit using only B the measurement:"
   ]
  },
  {
   "cell_type": "code",
   "execution_count": null,
   "metadata": {},
   "outputs": [],
   "source": [
    "measurements_B = (\n",
    "    HFLAV_BR_Xsgamma  = Measurement(BR_Xsgamma , 332e-6, uncertainties = (exp=15e-6, theo=23e-6), active = true),\n",
    "    ATLAS_13_1l       = Measurement(tta_13_1l, 521.0, uncertainties = (exp =42. , theo=99.), active = false),\n",
    ");\n",
    "\n",
    "m_B = EFTfitterModel(parameters, measurements_B, correlations);\n",
    "posterior_B = PosteriorDensity(m_B)\n",
    "samples_B = bat_sample(posterior_B, algorithm).result;"
   ]
  },
  {
   "cell_type": "markdown",
   "metadata": {},
   "source": [
    "### Fit using only the top-quark measurement:"
   ]
  },
  {
   "cell_type": "code",
   "execution_count": null,
   "metadata": {},
   "outputs": [],
   "source": [
    "measurements_top = (\n",
    "    HFLAV_BR_Xsgamma  = Measurement(BR_Xsgamma , 332e-6, uncertainties = (exp=15e-6, theo=23e-6), active = false),\n",
    "    ATLAS_13_1l       = Measurement(tta_13_1l, 521.0, uncertainties = (exp =42. , theo=99.), active = true),\n",
    ");\n",
    "\n",
    "m_top = EFTfitterModel(parameters, measurements_top, correlations);\n",
    "posterior_top = PosteriorDensity(m_top)\n",
    "samples_top = bat_sample(posterior_top, algorithm).result;"
   ]
  },
  {
   "cell_type": "code",
   "execution_count": null,
   "metadata": {},
   "outputs": [],
   "source": []
  },
  {
   "cell_type": "markdown",
   "metadata": {},
   "source": [
    "### 2D Plots of the 90% areas:"
   ]
  },
  {
   "cell_type": "code",
   "execution_count": null,
   "metadata": {},
   "outputs": [],
   "source": [
    "f = 1.6\n",
    "pyplot(size=(f*400, f*300))\n",
    "\n",
    "Ci = :CuB ; Cj = :CuW\n",
    "\n",
    "p = plot( samples_B,   (Ci, Cj), intervals=[0.9], colors=[:gray86],     lw=1, st=:smallest_intervals_contourf, alpha=0.5, bins=80, smoothing=0.5, marginalmode=false, label=\"only B\")\n",
    "p = plot!(samples_top, (Ci, Cj), intervals=[0.9], colors=[:steelblue2], lw=1, st=:smallest_intervals_contourf, alpha=0.5, bins=80, smoothing=0.8, marginalmode=false)\n",
    "p = plot!(samples,     (Ci, Cj), intervals=[0.9], colors=[:darkblue],   lw=1, st=:smallest_intervals_contourf, alpha=0.5, bins=80, smoothing=1.0, marginalmode=false)\n",
    "\n",
    "\n",
    "p = plot!(xlims=(-1, 1), ylims=(-1, 1))"
   ]
  },
  {
   "cell_type": "markdown",
   "metadata": {},
   "source": [
    "### 3D Plots"
   ]
  },
  {
   "cell_type": "code",
   "execution_count": null,
   "metadata": {
    "scrolled": false
   },
   "outputs": [],
   "source": [
    "N = 40000\n",
    "\n",
    "comb_x = [BAT.unshaped.(samples).v[i][1] for i in 1:length(samples)][end-N:end]\n",
    "comb_y = [BAT.unshaped.(samples).v[i][2] for i in 1:length(samples)][end-N:end]\n",
    "comb_z = [BAT.unshaped.(samples).v[i][3] for i in 1:length(samples)][end-N:end]\n",
    "\n",
    "B_x = [BAT.unshaped.(samples_B).v[i][1] for i in 1:length(samples_B)][end-2N:end]\n",
    "B_y = [BAT.unshaped.(samples_B).v[i][2] for i in 1:length(samples_B)][end-2N:end]\n",
    "B_z = [BAT.unshaped.(samples_B).v[i][3] for i in 1:length(samples_B)][end-2N:end]\n",
    "\n",
    "top_x = [BAT.unshaped.(samples_top).v[i][1] for i in 1:length(samples_top)][end-2N:end]\n",
    "top_y = [BAT.unshaped.(samples_top).v[i][2] for i in 1:length(samples_top)][end-2N:end]\n",
    "top_z = [BAT.unshaped.(samples_top).v[i][3] for i in 1:length(samples_top)][end-2N:end]\n",
    "\n",
    "\n",
    "\n",
    "f = 2\n",
    "plotly(size=(f*400, f*300))\n",
    "\n",
    "ms = 0.7 # markersize\n",
    "p = Plots.scatter(B_x, B_y, B_z, ms=ms, alpha=1, color=:gray72, msw=0, xlabel=\"CuB\", ylabel=\"CuG\", zlabel=\"CuW\", label=\"only B\")\n",
    "p = Plots.scatter!(top_x, top_y, top_z, ms=ms, color=:steelblue2, msw=0, label=\"only top\", alpha=1)\n",
    "p = Plots.scatter!(comb_x, comb_y, comb_z, ms=ms, color=:darkblue, msw=0, label=\"combination\", )"
   ]
  },
  {
   "cell_type": "markdown",
   "metadata": {},
   "source": [
    "### Plot 1D 90% intervals: "
   ]
  },
  {
   "cell_type": "code",
   "execution_count": null,
   "metadata": {},
   "outputs": [],
   "source": [
    "f = 1.5\n",
    "pyplot(size=(f*400, f*300))\n",
    "\n",
    "plot( samples_B,   0.9, y_offset=-0.2, atol=0.1, msw=4, ms=8, msc=:gray56,     label=\"only B\")\n",
    "plot!(samples_top, 0.9,                atol=0.1, msw=4, ms=8, msc=:steelblue2, label=\"only Top\")\n",
    "plot!(samples,     0.9, y_offset=0.2,  atol=0.1, msw=4, ms=8, msc=:darkblue,   label=\"combination\")\n",
    "\n",
    "plot!(title=\"90% intervals\", legend=true)"
   ]
  },
  {
   "cell_type": "code",
   "execution_count": null,
   "metadata": {},
   "outputs": [],
   "source": []
  },
  {
   "cell_type": "code",
   "execution_count": null,
   "metadata": {},
   "outputs": [],
   "source": []
  },
  {
   "cell_type": "code",
   "execution_count": null,
   "metadata": {},
   "outputs": [],
   "source": []
  }
 ],
 "metadata": {
  "kernelspec": {
   "display_name": "Julia 1.6.2",
   "language": "julia",
   "name": "julia-1.6"
  },
  "language_info": {
   "file_extension": ".jl",
   "mimetype": "application/julia",
   "name": "julia",
   "version": "1.6.2"
  }
 },
 "nbformat": 4,
 "nbformat_minor": 2
}
